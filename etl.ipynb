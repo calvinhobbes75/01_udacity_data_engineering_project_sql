{
 "cells": [
  {
   "cell_type": "markdown",
   "metadata": {},
   "source": [
    "# ETL Processes\n",
    "Use this notebook to develop the ETL process for each of your tables before completing the `etl.py` file to load the whole datasets."
   ]
  },
  {
   "cell_type": "code",
   "execution_count": 1,
   "metadata": {},
   "outputs": [],
   "source": [
    "import os\n",
    "import glob\n",
    "import psycopg2\n",
    "import pandas as pd\n",
    "from io import StringIO\n",
    "from sql_queries import *"
   ]
  },
  {
   "cell_type": "code",
   "execution_count": 2,
   "metadata": {},
   "outputs": [],
   "source": [
    "conn = psycopg2.connect(\"host=127.0.0.1 dbname=sparkifydb user=student password=student\")\n",
    "cur = conn.cursor()"
   ]
  },
  {
   "cell_type": "code",
   "execution_count": 3,
   "metadata": {},
   "outputs": [],
   "source": [
    "def get_files(filepath):\n",
    "    all_files = []\n",
    "    for root, dirs, files in os.walk(filepath):\n",
    "        files = glob.glob(os.path.join(root,'*.json'))\n",
    "        for f in files :\n",
    "            all_files.append(os.path.abspath(f))\n",
    "    \n",
    "    return all_files"
   ]
  },
  {
   "cell_type": "markdown",
   "metadata": {},
   "source": [
    "# Process `song_data`\n",
    "In this first part, you'll perform ETL on the first dataset, `song_data`, to create the `songs` and `artists` dimensional tables.\n",
    "\n",
    "Let's perform ETL on a single song file and load a single record into each table to start.\n",
    "- Use the `get_files` function provided above to get a list of all song JSON files in `data/song_data`\n",
    "- Select the first song in this list\n",
    "- Read the song file and view the data"
   ]
  },
  {
   "cell_type": "code",
   "execution_count": null,
   "metadata": {},
   "outputs": [],
   "source": [
    "song_files = get_files('data/song_data')"
   ]
  },
  {
   "cell_type": "code",
   "execution_count": null,
   "metadata": {},
   "outputs": [],
   "source": [
    "# check number of files\n",
    "len(song_files)"
   ]
  },
  {
   "cell_type": "code",
   "execution_count": null,
   "metadata": {},
   "outputs": [],
   "source": [
    "# select firts file\n",
    "filepath = song_files[0]"
   ]
  },
  {
   "cell_type": "code",
   "execution_count": null,
   "metadata": {},
   "outputs": [],
   "source": [
    "df = pd.read_json(filepath, lines=True)\n",
    "df.head()"
   ]
  },
  {
   "cell_type": "markdown",
   "metadata": {},
   "source": [
    "## #1: `songs` Table\n",
    "#### Extract Data for Songs Table\n",
    "- Select columns for song ID, title, artist ID, year, and duration\n",
    "- Use `df.values` to select just the values from the dataframe\n",
    "- Index to select the first (only) record in the dataframe\n",
    "- Convert the array to a list and set it to `song_data`"
   ]
  },
  {
   "cell_type": "code",
   "execution_count": null,
   "metadata": {},
   "outputs": [],
   "source": [
    "song_data = df[['song_id','title','artist_id','year','duration']].values[0].tolist()\n",
    "song_data"
   ]
  },
  {
   "cell_type": "markdown",
   "metadata": {},
   "source": [
    "#### Insert Record into Song Table\n",
    "Implement the `song_table_insert` query in `sql_queries.py` and run the cell below to insert a record for this song into the `songs` table. Remember to run `create_tables.py` before running the cell below to ensure you've created/resetted the `songs` table in the sparkify database."
   ]
  },
  {
   "cell_type": "code",
   "execution_count": null,
   "metadata": {},
   "outputs": [],
   "source": [
    "cur.execute(song_table_insert, song_data)\n",
    "conn.commit()"
   ]
  },
  {
   "cell_type": "markdown",
   "metadata": {},
   "source": [
    "Run `test.ipynb` to see if you've successfully added a record to this table."
   ]
  },
  {
   "cell_type": "markdown",
   "metadata": {},
   "source": [
    "## #2: `artists` Table\n",
    "#### Extract Data for Artists Table\n",
    "- Select columns for artist ID, name, location, latitude, and longitude\n",
    "- Use `df.values` to select just the values from the dataframe\n",
    "- Index to select the first (only) record in the dataframe\n",
    "- Convert the array to a list and set it to `artist_data`"
   ]
  },
  {
   "cell_type": "code",
   "execution_count": null,
   "metadata": {},
   "outputs": [],
   "source": [
    "artist_data = df[['artist_id','artist_name','artist_location', 'artist_latitude', 'artist_longitude']].values[0].tolist()\n",
    "artist_data"
   ]
  },
  {
   "cell_type": "markdown",
   "metadata": {},
   "source": [
    "#### Insert Record into Artist Table\n",
    "Implement the `artist_table_insert` query in `sql_queries.py` and run the cell below to insert a record for this song's artist into the `artists` table. Remember to run `create_tables.py` before running the cell below to ensure you've created/resetted the `artists` table in the sparkify database."
   ]
  },
  {
   "cell_type": "code",
   "execution_count": null,
   "metadata": {},
   "outputs": [],
   "source": [
    "cur.execute(artist_table_insert, artist_data)\n",
    "conn.commit()"
   ]
  },
  {
   "cell_type": "markdown",
   "metadata": {},
   "source": [
    "Run `test.ipynb` to see if you've successfully added a record to this table."
   ]
  },
  {
   "cell_type": "markdown",
   "metadata": {},
   "source": [
    "# Process `log_data`\n",
    "In this part, you'll perform ETL on the second dataset, `log_data`, to create the `time` and `users` dimensional tables, as well as the `songplays` fact table.\n",
    "\n",
    "Let's perform ETL on a single log file and load a single record into each table.\n",
    "- Use the `get_files` function provided above to get a list of all log JSON files in `data/log_data`\n",
    "- Select the first log file in this list\n",
    "- Read the log file and view the data"
   ]
  },
  {
   "cell_type": "code",
   "execution_count": 4,
   "metadata": {},
   "outputs": [],
   "source": [
    "log_files = get_files('data/log_data')"
   ]
  },
  {
   "cell_type": "code",
   "execution_count": 5,
   "metadata": {},
   "outputs": [
    {
     "output_type": "execute_result",
     "data": {
      "text/plain": "30"
     },
     "metadata": {},
     "execution_count": 5
    }
   ],
   "source": [
    "# check that we have 30/31 files for the selected month\n",
    "len(log_files)"
   ]
  },
  {
   "cell_type": "code",
   "execution_count": 6,
   "metadata": {},
   "outputs": [],
   "source": [
    "filepath = log_files[0]"
   ]
  },
  {
   "cell_type": "code",
   "execution_count": 7,
   "metadata": {},
   "outputs": [
    {
     "output_type": "execute_result",
     "data": {
      "text/plain": "    artist       auth firstName gender  itemInSession lastName     length  \\\n0     None  Logged In    Walter      M              0     Frye        NaN   \n1     None  Logged In    Kaylee      F              0  Summers        NaN   \n2  Des'ree  Logged In    Kaylee      F              1  Summers  246.30812   \n3     None  Logged In    Kaylee      F              2  Summers        NaN   \n4  Mr Oizo  Logged In    Kaylee      F              3  Summers  144.03873   \n\n  level                           location method      page   registration  \\\n0  free  San Francisco-Oakland-Hayward, CA    GET      Home  1540919166796   \n1  free        Phoenix-Mesa-Scottsdale, AZ    GET      Home  1540344794796   \n2  free        Phoenix-Mesa-Scottsdale, AZ    PUT  NextSong  1540344794796   \n3  free        Phoenix-Mesa-Scottsdale, AZ    GET   Upgrade  1540344794796   \n4  free        Phoenix-Mesa-Scottsdale, AZ    PUT  NextSong  1540344794796   \n\n   sessionId          song  status             ts  \\\n0         38          None     200  1541105830796   \n1        139          None     200  1541106106796   \n2        139  You Gotta Be     200  1541106106796   \n3        139          None     200  1541106132796   \n4        139       Flat 55     200  1541106352796   \n\n                                           userAgent  userId  \n0  \"Mozilla/5.0 (Macintosh; Intel Mac OS X 10_9_4...      39  \n1  \"Mozilla/5.0 (Windows NT 6.1; WOW64) AppleWebK...       8  \n2  \"Mozilla/5.0 (Windows NT 6.1; WOW64) AppleWebK...       8  \n3  \"Mozilla/5.0 (Windows NT 6.1; WOW64) AppleWebK...       8  \n4  \"Mozilla/5.0 (Windows NT 6.1; WOW64) AppleWebK...       8  ",
      "text/html": "<div>\n<style scoped>\n    .dataframe tbody tr th:only-of-type {\n        vertical-align: middle;\n    }\n\n    .dataframe tbody tr th {\n        vertical-align: top;\n    }\n\n    .dataframe thead th {\n        text-align: right;\n    }\n</style>\n<table border=\"1\" class=\"dataframe\">\n  <thead>\n    <tr style=\"text-align: right;\">\n      <th></th>\n      <th>artist</th>\n      <th>auth</th>\n      <th>firstName</th>\n      <th>gender</th>\n      <th>itemInSession</th>\n      <th>lastName</th>\n      <th>length</th>\n      <th>level</th>\n      <th>location</th>\n      <th>method</th>\n      <th>page</th>\n      <th>registration</th>\n      <th>sessionId</th>\n      <th>song</th>\n      <th>status</th>\n      <th>ts</th>\n      <th>userAgent</th>\n      <th>userId</th>\n    </tr>\n  </thead>\n  <tbody>\n    <tr>\n      <th>0</th>\n      <td>None</td>\n      <td>Logged In</td>\n      <td>Walter</td>\n      <td>M</td>\n      <td>0</td>\n      <td>Frye</td>\n      <td>NaN</td>\n      <td>free</td>\n      <td>San Francisco-Oakland-Hayward, CA</td>\n      <td>GET</td>\n      <td>Home</td>\n      <td>1540919166796</td>\n      <td>38</td>\n      <td>None</td>\n      <td>200</td>\n      <td>1541105830796</td>\n      <td>\"Mozilla/5.0 (Macintosh; Intel Mac OS X 10_9_4...</td>\n      <td>39</td>\n    </tr>\n    <tr>\n      <th>1</th>\n      <td>None</td>\n      <td>Logged In</td>\n      <td>Kaylee</td>\n      <td>F</td>\n      <td>0</td>\n      <td>Summers</td>\n      <td>NaN</td>\n      <td>free</td>\n      <td>Phoenix-Mesa-Scottsdale, AZ</td>\n      <td>GET</td>\n      <td>Home</td>\n      <td>1540344794796</td>\n      <td>139</td>\n      <td>None</td>\n      <td>200</td>\n      <td>1541106106796</td>\n      <td>\"Mozilla/5.0 (Windows NT 6.1; WOW64) AppleWebK...</td>\n      <td>8</td>\n    </tr>\n    <tr>\n      <th>2</th>\n      <td>Des'ree</td>\n      <td>Logged In</td>\n      <td>Kaylee</td>\n      <td>F</td>\n      <td>1</td>\n      <td>Summers</td>\n      <td>246.30812</td>\n      <td>free</td>\n      <td>Phoenix-Mesa-Scottsdale, AZ</td>\n      <td>PUT</td>\n      <td>NextSong</td>\n      <td>1540344794796</td>\n      <td>139</td>\n      <td>You Gotta Be</td>\n      <td>200</td>\n      <td>1541106106796</td>\n      <td>\"Mozilla/5.0 (Windows NT 6.1; WOW64) AppleWebK...</td>\n      <td>8</td>\n    </tr>\n    <tr>\n      <th>3</th>\n      <td>None</td>\n      <td>Logged In</td>\n      <td>Kaylee</td>\n      <td>F</td>\n      <td>2</td>\n      <td>Summers</td>\n      <td>NaN</td>\n      <td>free</td>\n      <td>Phoenix-Mesa-Scottsdale, AZ</td>\n      <td>GET</td>\n      <td>Upgrade</td>\n      <td>1540344794796</td>\n      <td>139</td>\n      <td>None</td>\n      <td>200</td>\n      <td>1541106132796</td>\n      <td>\"Mozilla/5.0 (Windows NT 6.1; WOW64) AppleWebK...</td>\n      <td>8</td>\n    </tr>\n    <tr>\n      <th>4</th>\n      <td>Mr Oizo</td>\n      <td>Logged In</td>\n      <td>Kaylee</td>\n      <td>F</td>\n      <td>3</td>\n      <td>Summers</td>\n      <td>144.03873</td>\n      <td>free</td>\n      <td>Phoenix-Mesa-Scottsdale, AZ</td>\n      <td>PUT</td>\n      <td>NextSong</td>\n      <td>1540344794796</td>\n      <td>139</td>\n      <td>Flat 55</td>\n      <td>200</td>\n      <td>1541106352796</td>\n      <td>\"Mozilla/5.0 (Windows NT 6.1; WOW64) AppleWebK...</td>\n      <td>8</td>\n    </tr>\n  </tbody>\n</table>\n</div>"
     },
     "metadata": {},
     "execution_count": 7
    }
   ],
   "source": [
    "df = pd.read_json(filepath, lines=True)\n",
    "df.head()"
   ]
  },
  {
   "cell_type": "code",
   "execution_count": 8,
   "metadata": {},
   "outputs": [
    {
     "output_type": "execute_result",
     "data": {
      "text/plain": "array(['free'], dtype=object)"
     },
     "metadata": {},
     "execution_count": 8
    }
   ],
   "source": [
    "# check values for level -> 2 levels free/paid\n",
    "df['level'].unique()"
   ]
  },
  {
   "cell_type": "code",
   "execution_count": 9,
   "metadata": {},
   "outputs": [
    {
     "output_type": "stream",
     "name": "stdout",
     "text": "<class 'pandas.core.frame.DataFrame'>\nRangeIndex: 15 entries, 0 to 14\nData columns (total 18 columns):\n #   Column         Non-Null Count  Dtype  \n---  ------         --------------  -----  \n 0   artist         11 non-null     object \n 1   auth           15 non-null     object \n 2   firstName      15 non-null     object \n 3   gender         15 non-null     object \n 4   itemInSession  15 non-null     int64  \n 5   lastName       15 non-null     object \n 6   length         11 non-null     float64\n 7   level          15 non-null     object \n 8   location       15 non-null     object \n 9   method         15 non-null     object \n 10  page           15 non-null     object \n 11  registration   15 non-null     int64  \n 12  sessionId      15 non-null     int64  \n 13  song           11 non-null     object \n 14  status         15 non-null     int64  \n 15  ts             15 non-null     int64  \n 16  userAgent      15 non-null     object \n 17  userId         15 non-null     int64  \ndtypes: float64(1), int64(6), object(11)\nmemory usage: 2.2+ KB\n"
    }
   ],
   "source": [
    "#  check columns list and type\n",
    "df.info()"
   ]
  },
  {
   "cell_type": "markdown",
   "metadata": {},
   "source": [
    "## #3: `time` Table\n",
    "#### Extract Data for Time Table\n",
    "- Filter records by `NextSong` action\n",
    "- Convert the `ts` timestamp column to datetime\n",
    "  - Hint: the current timestamp is in milliseconds\n",
    "- Extract the timestamp, hour, day, week of year, month, year, and weekday from the `ts` column and set `time_data` to a list containing these values in order\n",
    "  - Hint: use pandas' [`dt` attribute](https://pandas.pydata.org/pandas-docs/stable/reference/api/pandas.Series.dt.html) to access easily datetimelike properties.\n",
    "- Specify labels for these columns and set to `column_labels`\n",
    "- Create a dataframe, `time_df,` containing the time data for this file by combining `column_labels` and `time_data` into a dictionary and converting this into a dataframe"
   ]
  },
  {
   "cell_type": "code",
   "execution_count": 10,
   "metadata": {},
   "outputs": [
    {
     "output_type": "execute_result",
     "data": {
      "text/plain": "              artist       auth firstName gender  itemInSession lastName  \\\n2            Des'ree  Logged In    Kaylee      F              1  Summers   \n4            Mr Oizo  Logged In    Kaylee      F              3  Summers   \n5         Tamba Trio  Logged In    Kaylee      F              4  Summers   \n6     The Mars Volta  Logged In    Kaylee      F              5  Summers   \n7  Infected Mushroom  Logged In    Kaylee      F              6  Summers   \n\n      length level                     location method      page  \\\n2  246.30812  free  Phoenix-Mesa-Scottsdale, AZ    PUT  NextSong   \n4  144.03873  free  Phoenix-Mesa-Scottsdale, AZ    PUT  NextSong   \n5  177.18812  free  Phoenix-Mesa-Scottsdale, AZ    PUT  NextSong   \n6  380.42077  free  Phoenix-Mesa-Scottsdale, AZ    PUT  NextSong   \n7  440.26730  free  Phoenix-Mesa-Scottsdale, AZ    PUT  NextSong   \n\n    registration  sessionId                          song  status  \\\n2  1540344794796        139                  You Gotta Be     200   \n4  1540344794796        139                       Flat 55     200   \n5  1540344794796        139  Quem Quiser Encontrar O Amor     200   \n6  1540344794796        139                     Eriatarka     200   \n7  1540344794796        139               Becoming Insane     200   \n\n              ts                                          userAgent  userId  \n2  1541106106796  \"Mozilla/5.0 (Windows NT 6.1; WOW64) AppleWebK...       8  \n4  1541106352796  \"Mozilla/5.0 (Windows NT 6.1; WOW64) AppleWebK...       8  \n5  1541106496796  \"Mozilla/5.0 (Windows NT 6.1; WOW64) AppleWebK...       8  \n6  1541106673796  \"Mozilla/5.0 (Windows NT 6.1; WOW64) AppleWebK...       8  \n7  1541107053796  \"Mozilla/5.0 (Windows NT 6.1; WOW64) AppleWebK...       8  ",
      "text/html": "<div>\n<style scoped>\n    .dataframe tbody tr th:only-of-type {\n        vertical-align: middle;\n    }\n\n    .dataframe tbody tr th {\n        vertical-align: top;\n    }\n\n    .dataframe thead th {\n        text-align: right;\n    }\n</style>\n<table border=\"1\" class=\"dataframe\">\n  <thead>\n    <tr style=\"text-align: right;\">\n      <th></th>\n      <th>artist</th>\n      <th>auth</th>\n      <th>firstName</th>\n      <th>gender</th>\n      <th>itemInSession</th>\n      <th>lastName</th>\n      <th>length</th>\n      <th>level</th>\n      <th>location</th>\n      <th>method</th>\n      <th>page</th>\n      <th>registration</th>\n      <th>sessionId</th>\n      <th>song</th>\n      <th>status</th>\n      <th>ts</th>\n      <th>userAgent</th>\n      <th>userId</th>\n    </tr>\n  </thead>\n  <tbody>\n    <tr>\n      <th>2</th>\n      <td>Des'ree</td>\n      <td>Logged In</td>\n      <td>Kaylee</td>\n      <td>F</td>\n      <td>1</td>\n      <td>Summers</td>\n      <td>246.30812</td>\n      <td>free</td>\n      <td>Phoenix-Mesa-Scottsdale, AZ</td>\n      <td>PUT</td>\n      <td>NextSong</td>\n      <td>1540344794796</td>\n      <td>139</td>\n      <td>You Gotta Be</td>\n      <td>200</td>\n      <td>1541106106796</td>\n      <td>\"Mozilla/5.0 (Windows NT 6.1; WOW64) AppleWebK...</td>\n      <td>8</td>\n    </tr>\n    <tr>\n      <th>4</th>\n      <td>Mr Oizo</td>\n      <td>Logged In</td>\n      <td>Kaylee</td>\n      <td>F</td>\n      <td>3</td>\n      <td>Summers</td>\n      <td>144.03873</td>\n      <td>free</td>\n      <td>Phoenix-Mesa-Scottsdale, AZ</td>\n      <td>PUT</td>\n      <td>NextSong</td>\n      <td>1540344794796</td>\n      <td>139</td>\n      <td>Flat 55</td>\n      <td>200</td>\n      <td>1541106352796</td>\n      <td>\"Mozilla/5.0 (Windows NT 6.1; WOW64) AppleWebK...</td>\n      <td>8</td>\n    </tr>\n    <tr>\n      <th>5</th>\n      <td>Tamba Trio</td>\n      <td>Logged In</td>\n      <td>Kaylee</td>\n      <td>F</td>\n      <td>4</td>\n      <td>Summers</td>\n      <td>177.18812</td>\n      <td>free</td>\n      <td>Phoenix-Mesa-Scottsdale, AZ</td>\n      <td>PUT</td>\n      <td>NextSong</td>\n      <td>1540344794796</td>\n      <td>139</td>\n      <td>Quem Quiser Encontrar O Amor</td>\n      <td>200</td>\n      <td>1541106496796</td>\n      <td>\"Mozilla/5.0 (Windows NT 6.1; WOW64) AppleWebK...</td>\n      <td>8</td>\n    </tr>\n    <tr>\n      <th>6</th>\n      <td>The Mars Volta</td>\n      <td>Logged In</td>\n      <td>Kaylee</td>\n      <td>F</td>\n      <td>5</td>\n      <td>Summers</td>\n      <td>380.42077</td>\n      <td>free</td>\n      <td>Phoenix-Mesa-Scottsdale, AZ</td>\n      <td>PUT</td>\n      <td>NextSong</td>\n      <td>1540344794796</td>\n      <td>139</td>\n      <td>Eriatarka</td>\n      <td>200</td>\n      <td>1541106673796</td>\n      <td>\"Mozilla/5.0 (Windows NT 6.1; WOW64) AppleWebK...</td>\n      <td>8</td>\n    </tr>\n    <tr>\n      <th>7</th>\n      <td>Infected Mushroom</td>\n      <td>Logged In</td>\n      <td>Kaylee</td>\n      <td>F</td>\n      <td>6</td>\n      <td>Summers</td>\n      <td>440.26730</td>\n      <td>free</td>\n      <td>Phoenix-Mesa-Scottsdale, AZ</td>\n      <td>PUT</td>\n      <td>NextSong</td>\n      <td>1540344794796</td>\n      <td>139</td>\n      <td>Becoming Insane</td>\n      <td>200</td>\n      <td>1541107053796</td>\n      <td>\"Mozilla/5.0 (Windows NT 6.1; WOW64) AppleWebK...</td>\n      <td>8</td>\n    </tr>\n  </tbody>\n</table>\n</div>"
     },
     "metadata": {},
     "execution_count": 10
    }
   ],
   "source": [
    "df = df.loc[df.page == 'NextSong']\n",
    "df.head()"
   ]
  },
  {
   "cell_type": "code",
   "execution_count": 11,
   "metadata": {},
   "outputs": [
    {
     "output_type": "stream",
     "name": "stdout",
     "text": "<class 'pandas.core.frame.DataFrame'>\nInt64Index: 11 entries, 2 to 14\nData columns (total 18 columns):\n #   Column         Non-Null Count  Dtype  \n---  ------         --------------  -----  \n 0   artist         11 non-null     object \n 1   auth           11 non-null     object \n 2   firstName      11 non-null     object \n 3   gender         11 non-null     object \n 4   itemInSession  11 non-null     int64  \n 5   lastName       11 non-null     object \n 6   length         11 non-null     float64\n 7   level          11 non-null     object \n 8   location       11 non-null     object \n 9   method         11 non-null     object \n 10  page           11 non-null     object \n 11  registration   11 non-null     int64  \n 12  sessionId      11 non-null     int64  \n 13  song           11 non-null     object \n 14  status         11 non-null     int64  \n 15  ts             11 non-null     int64  \n 16  userAgent      11 non-null     object \n 17  userId         11 non-null     int64  \ndtypes: float64(1), int64(6), object(11)\nmemory usage: 1.6+ KB\n"
    }
   ],
   "source": [
    "# we have a subset of 11 records\n",
    "df.info()"
   ]
  },
  {
   "cell_type": "code",
   "execution_count": 12,
   "metadata": {},
   "outputs": [
    {
     "output_type": "execute_result",
     "data": {
      "text/plain": "2   2018-11-01 21:01:46.796\n4   2018-11-01 21:05:52.796\n5   2018-11-01 21:08:16.796\n6   2018-11-01 21:11:13.796\n7   2018-11-01 21:17:33.796\nName: ts, dtype: datetime64[ns]"
     },
     "metadata": {},
     "execution_count": 12
    }
   ],
   "source": [
    "# convert to timestamp\n",
    "t = pd.to_datetime(df['ts'], unit='ms')\n",
    "t.head()"
   ]
  },
  {
   "cell_type": "code",
   "execution_count": 13,
   "metadata": {},
   "outputs": [
    {
     "output_type": "execute_result",
     "data": {
      "text/plain": "               start_time  hour  day  week  month  year  weekday\n2 2018-11-01 21:01:46.796    21    1    44     11  2018        3\n4 2018-11-01 21:05:52.796    21    1    44     11  2018        3\n5 2018-11-01 21:08:16.796    21    1    44     11  2018        3\n6 2018-11-01 21:11:13.796    21    1    44     11  2018        3\n7 2018-11-01 21:17:33.796    21    1    44     11  2018        3",
      "text/html": "<div>\n<style scoped>\n    .dataframe tbody tr th:only-of-type {\n        vertical-align: middle;\n    }\n\n    .dataframe tbody tr th {\n        vertical-align: top;\n    }\n\n    .dataframe thead th {\n        text-align: right;\n    }\n</style>\n<table border=\"1\" class=\"dataframe\">\n  <thead>\n    <tr style=\"text-align: right;\">\n      <th></th>\n      <th>start_time</th>\n      <th>hour</th>\n      <th>day</th>\n      <th>week</th>\n      <th>month</th>\n      <th>year</th>\n      <th>weekday</th>\n    </tr>\n  </thead>\n  <tbody>\n    <tr>\n      <th>2</th>\n      <td>2018-11-01 21:01:46.796</td>\n      <td>21</td>\n      <td>1</td>\n      <td>44</td>\n      <td>11</td>\n      <td>2018</td>\n      <td>3</td>\n    </tr>\n    <tr>\n      <th>4</th>\n      <td>2018-11-01 21:05:52.796</td>\n      <td>21</td>\n      <td>1</td>\n      <td>44</td>\n      <td>11</td>\n      <td>2018</td>\n      <td>3</td>\n    </tr>\n    <tr>\n      <th>5</th>\n      <td>2018-11-01 21:08:16.796</td>\n      <td>21</td>\n      <td>1</td>\n      <td>44</td>\n      <td>11</td>\n      <td>2018</td>\n      <td>3</td>\n    </tr>\n    <tr>\n      <th>6</th>\n      <td>2018-11-01 21:11:13.796</td>\n      <td>21</td>\n      <td>1</td>\n      <td>44</td>\n      <td>11</td>\n      <td>2018</td>\n      <td>3</td>\n    </tr>\n    <tr>\n      <th>7</th>\n      <td>2018-11-01 21:17:33.796</td>\n      <td>21</td>\n      <td>1</td>\n      <td>44</td>\n      <td>11</td>\n      <td>2018</td>\n      <td>3</td>\n    </tr>\n  </tbody>\n</table>\n</div>"
     },
     "metadata": {},
     "execution_count": 13
    }
   ],
   "source": [
    "# create dataframe\n",
    "time_df = pd.DataFrame({'start_time' : t,\n",
    "                'hour' : t.dt.hour,\n",
    "                'day' : t.dt.day,\n",
    "                'week' : t.dt.week,\n",
    "                'month' : t.dt.month,\n",
    "                'year' : t.dt.year,\n",
    "                'weekday' : t.dt.weekday})\n",
    "time_df.head()"
   ]
  },
  {
   "cell_type": "markdown",
   "metadata": {},
   "source": [
    "#### Insert Records into Time Table\n",
    "Implement the `time_table_insert` query in `sql_queries.py` and run the cell below to insert records for the timestamps in this log file into the `time` table. Remember to run `create_tables.py` before running the cell below to ensure you've created/resetted the `time` table in the sparkify database."
   ]
  },
  {
   "cell_type": "code",
   "execution_count": null,
   "metadata": {},
   "outputs": [],
   "source": [
    "# use this commands for row by row insertion (slower)\n",
    "for i, row in time_df.iterrows():\n",
    "    cur.execute(time_table_insert, list(row))\n",
    "    conn.commit()"
   ]
  },
  {
   "cell_type": "code",
   "execution_count": 14,
   "metadata": {},
   "outputs": [],
   "source": [
    "#  use copy command to do batch data insert (faster)\n",
    "f = StringIO()\n",
    "time_df.to_csv(f, header=None, index=None, sep=',')\n",
    "f.seek(0)\n",
    "cur.copy_expert(time_table_copy, f)\n",
    "conn.commit()\n"
   ]
  },
  {
   "cell_type": "markdown",
   "metadata": {},
   "source": [
    "Run `test.ipynb` to see if you've successfully added records to this table."
   ]
  },
  {
   "cell_type": "markdown",
   "metadata": {},
   "source": [
    "## #4: `users` Table\n",
    "#### Extract Data for Users Table\n",
    "- Select columns for user ID, first name, last name, gender and level and set to `user_df`"
   ]
  },
  {
   "cell_type": "code",
   "execution_count": 15,
   "metadata": {},
   "outputs": [
    {
     "output_type": "execute_result",
     "data": {
      "text/plain": "   userId firstName lastName gender level\n2       8    Kaylee  Summers      F  free\n4       8    Kaylee  Summers      F  free\n5       8    Kaylee  Summers      F  free\n6       8    Kaylee  Summers      F  free\n7       8    Kaylee  Summers      F  free",
      "text/html": "<div>\n<style scoped>\n    .dataframe tbody tr th:only-of-type {\n        vertical-align: middle;\n    }\n\n    .dataframe tbody tr th {\n        vertical-align: top;\n    }\n\n    .dataframe thead th {\n        text-align: right;\n    }\n</style>\n<table border=\"1\" class=\"dataframe\">\n  <thead>\n    <tr style=\"text-align: right;\">\n      <th></th>\n      <th>userId</th>\n      <th>firstName</th>\n      <th>lastName</th>\n      <th>gender</th>\n      <th>level</th>\n    </tr>\n  </thead>\n  <tbody>\n    <tr>\n      <th>2</th>\n      <td>8</td>\n      <td>Kaylee</td>\n      <td>Summers</td>\n      <td>F</td>\n      <td>free</td>\n    </tr>\n    <tr>\n      <th>4</th>\n      <td>8</td>\n      <td>Kaylee</td>\n      <td>Summers</td>\n      <td>F</td>\n      <td>free</td>\n    </tr>\n    <tr>\n      <th>5</th>\n      <td>8</td>\n      <td>Kaylee</td>\n      <td>Summers</td>\n      <td>F</td>\n      <td>free</td>\n    </tr>\n    <tr>\n      <th>6</th>\n      <td>8</td>\n      <td>Kaylee</td>\n      <td>Summers</td>\n      <td>F</td>\n      <td>free</td>\n    </tr>\n    <tr>\n      <th>7</th>\n      <td>8</td>\n      <td>Kaylee</td>\n      <td>Summers</td>\n      <td>F</td>\n      <td>free</td>\n    </tr>\n  </tbody>\n</table>\n</div>"
     },
     "metadata": {},
     "execution_count": 15
    }
   ],
   "source": [
    "user_df = df[['userId','firstName', 'lastName', 'gender', 'level']]\n",
    "user_df.head()"
   ]
  },
  {
   "cell_type": "markdown",
   "metadata": {},
   "source": [
    "#### Insert Records into Users Table\n",
    "Implement the `user_table_insert` query in `sql_queries.py` and run the cell below to insert records for the users in this log file into the `users` table. Remember to run `create_tables.py` before running the cell below to ensure you've created/resetted the `users` table in the sparkify database."
   ]
  },
  {
   "cell_type": "code",
   "execution_count": null,
   "metadata": {},
   "outputs": [],
   "source": [
    "# use this commands for row by row insertion (slower)\n",
    "for i, row in user_df.iterrows():\n",
    "    cur.execute(user_table_insert, row)\n",
    "    conn.commit()"
   ]
  },
  {
   "cell_type": "code",
   "execution_count": 16,
   "metadata": {},
   "outputs": [
    {
     "output_type": "error",
     "ename": "SyntaxError",
     "evalue": "syntax error at or near \"ON\"\nLINE 5:                         ON CONFLICT (user_id)\n                                ^\n",
     "traceback": [
      "\u001b[0;31m---------------------------------------------------------------------------\u001b[0m",
      "\u001b[0;31mSyntaxError\u001b[0m                               Traceback (most recent call last)",
      "\u001b[0;32m<ipython-input-16-2242a508de3e>\u001b[0m in \u001b[0;36m<module>\u001b[0;34m\u001b[0m\n\u001b[1;32m      3\u001b[0m \u001b[0muser_df\u001b[0m\u001b[0;34m.\u001b[0m\u001b[0mto_csv\u001b[0m\u001b[0;34m(\u001b[0m\u001b[0mf\u001b[0m\u001b[0;34m,\u001b[0m \u001b[0mheader\u001b[0m\u001b[0;34m=\u001b[0m\u001b[0;32mNone\u001b[0m\u001b[0;34m,\u001b[0m \u001b[0mindex\u001b[0m\u001b[0;34m=\u001b[0m\u001b[0;32mNone\u001b[0m\u001b[0;34m,\u001b[0m \u001b[0msep\u001b[0m\u001b[0;34m=\u001b[0m\u001b[0;34m','\u001b[0m\u001b[0;34m)\u001b[0m\u001b[0;34m\u001b[0m\u001b[0;34m\u001b[0m\u001b[0m\n\u001b[1;32m      4\u001b[0m \u001b[0mf\u001b[0m\u001b[0;34m.\u001b[0m\u001b[0mseek\u001b[0m\u001b[0;34m(\u001b[0m\u001b[0;36m0\u001b[0m\u001b[0;34m)\u001b[0m\u001b[0;34m\u001b[0m\u001b[0;34m\u001b[0m\u001b[0m\n\u001b[0;32m----> 5\u001b[0;31m \u001b[0mcur\u001b[0m\u001b[0;34m.\u001b[0m\u001b[0mcopy_expert\u001b[0m\u001b[0;34m(\u001b[0m\u001b[0muser_table_copy\u001b[0m\u001b[0;34m,\u001b[0m \u001b[0mf\u001b[0m\u001b[0;34m)\u001b[0m\u001b[0;34m\u001b[0m\u001b[0;34m\u001b[0m\u001b[0m\n\u001b[0m\u001b[1;32m      6\u001b[0m \u001b[0mconn\u001b[0m\u001b[0;34m.\u001b[0m\u001b[0mcommit\u001b[0m\u001b[0;34m(\u001b[0m\u001b[0;34m)\u001b[0m\u001b[0;34m\u001b[0m\u001b[0;34m\u001b[0m\u001b[0m\n",
      "\u001b[0;31mSyntaxError\u001b[0m: syntax error at or near \"ON\"\nLINE 5:                         ON CONFLICT (user_id)\n                                ^\n"
     ]
    }
   ],
   "source": [
    "#  use copy command to do batch data insert (faster) -> give conflict on primary key so better to use row by row insertion\n",
    "f = StringIO()\n",
    "user_df.to_csv(f, header=None, index=None, sep=',')\n",
    "f.seek(0)\n",
    "cur.copy_expert(user_table_copy, f)\n",
    "conn.commit()"
   ]
  },
  {
   "cell_type": "markdown",
   "metadata": {},
   "source": [
    "Run `test.ipynb` to see if you've successfully added records to this table."
   ]
  },
  {
   "cell_type": "markdown",
   "metadata": {},
   "source": [
    "## #5: `songplays` Table\n",
    "#### Extract Data and Songplays Table\n",
    "This one is a little more complicated since information from the songs table, artists table, and original log file are all needed for the `songplays` table. Since the log file does not specify an ID for either the song or the artist, you'll need to get the song ID and artist ID by querying the songs and artists tables to find matches based on song title, artist name, and song duration time.\n",
    "- Implement the `song_select` query in `sql_queries.py` to find the song ID and artist ID based on the title, artist name, and duration of a song.\n",
    "- Select the timestamp, user ID, level, song ID, artist ID, session ID, location, and user agent and set to `songplay_data`\n",
    "\n",
    "#### Insert Records into Songplays Table\n",
    "- Implement the `songplay_table_insert` query and run the cell below to insert records for the songplay actions in this log file into the `songplays` table. Remember to run `create_tables.py` before running the cell below to ensure you've created/resetted the `songplays` table in the sparkify database."
   ]
  },
  {
   "cell_type": "code",
   "execution_count": null,
   "metadata": {},
   "outputs": [],
   "source": [
    "df_songplays = pd.DataFrame(data=[],columns=['start_time', 'user_id', 'level', 'song_id', 'artist_id', 'session_id','location', 'user_agent'])"
   ]
  },
  {
   "cell_type": "code",
   "execution_count": null,
   "metadata": {},
   "outputs": [],
   "source": [
    "df_songplays.info()"
   ]
  },
  {
   "cell_type": "code",
   "execution_count": null,
   "metadata": {},
   "outputs": [],
   "source": [
    "songplays_dump_data = list()\n",
    "for index, row in df.iterrows():\n",
    "\n",
    "    # get songid and artistid from song and artist tables\n",
    "    cur.execute(song_select, (row.song, row.artist, row.length))\n",
    "    results = cur.fetchone()\n",
    "    if results:\n",
    "        songid, artistid = results\n",
    "    else:\n",
    "        songid, artistid = None, None\n",
    "\n",
    "    # append songplay record to songplays dump data list\n",
    "    songplay_data = (pd.to_datetime(row.ts, unit = 'ms'), row.userId, row.level, songid, artistid, row.sessionId,row.location, row.userAgent)\n",
    "    songplays_dump_data.append(songplay_data)\n"
   ]
  },
  {
   "cell_type": "code",
   "execution_count": null,
   "metadata": {},
   "outputs": [],
   "source": [
    "# create a DataFrame from dump data\n",
    "df_songplays = pd.DataFrame(songplays_dump_data, columns=['start_time', 'user_id', 'level', 'song_id', 'artist_id', 'session_id','location', 'user_agent'])"
   ]
  },
  {
   "cell_type": "code",
   "execution_count": null,
   "metadata": {},
   "outputs": [],
   "source": [
    "# save dataframe with dump data to StringIO objet and copy to table songplays\n",
    "f = StringIO()\n",
    "df_songplays.to_csv(f, header=None, index=None, sep=',')"
   ]
  },
  {
   "cell_type": "code",
   "execution_count": null,
   "metadata": {},
   "outputs": [],
   "source": [
    "# copy batch dumped data to songplays table instead of row by row insert\n",
    "# using songplay_table_copy query from sql_queries.py\n",
    "f.seek(0)\n",
    "cur.copy_expert(songplay_table_copy, f)\n",
    "conn.commit()"
   ]
  },
  {
   "cell_type": "code",
   "execution_count": null,
   "metadata": {},
   "outputs": [],
   "source": [
    "# use this command to insert row by row to songplays\n",
    "# cur.execute(songplay_table_insert, songplay_data)\n",
    "# conn.commit()"
   ]
  },
  {
   "cell_type": "markdown",
   "metadata": {},
   "source": [
    "Run `test.ipynb` to see if you've successfully added records to this table."
   ]
  },
  {
   "cell_type": "markdown",
   "metadata": {},
   "source": [
    "# Close Connection to Sparkify Database"
   ]
  },
  {
   "cell_type": "code",
   "execution_count": null,
   "metadata": {},
   "outputs": [],
   "source": [
    "conn.close()"
   ]
  },
  {
   "cell_type": "markdown",
   "metadata": {},
   "source": [
    "# Implement `etl.py`\n",
    "Use what you've completed in this notebook to implement `etl.py`."
   ]
  },
  {
   "cell_type": "code",
   "execution_count": null,
   "metadata": {},
   "outputs": [],
   "source": []
  }
 ],
 "metadata": {
  "kernelspec": {
   "display_name": "Python 3.7.7 64-bit ('udacity': conda)",
   "language": "python",
   "name": "python37764bitudacityconda2ae14321f7a7438d94a51f1060d9e83b"
  },
  "language_info": {
   "codemirror_mode": {
    "name": "ipython",
    "version": 3
   },
   "file_extension": ".py",
   "mimetype": "text/x-python",
   "name": "python",
   "nbconvert_exporter": "python",
   "pygments_lexer": "ipython3",
   "version": "3.7.7-final"
  }
 },
 "nbformat": 4,
 "nbformat_minor": 2
}